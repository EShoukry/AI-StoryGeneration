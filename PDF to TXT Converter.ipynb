{
  "nbformat": 4,
  "nbformat_minor": 0,
  "metadata": {
    "colab": {
      "name": "PDF2TXT.ipynb",
      "provenance": [],
      "include_colab_link": true
    },
    "kernelspec": {
      "name": "python2",
      "display_name": "Python 2"
    },
    "accelerator": "GPU"
  },
  "cells": [
    {
      "cell_type": "markdown",
      "metadata": {
        "id": "view-in-github",
        "colab_type": "text"
      },
      "source": [
        "<a href=\"https://colab.research.google.com/github/EShoukry/AI-StoryGeneration/blob/master/PDF%20to%20TXT%20Converter.ipynb\" target=\"_parent\"><img src=\"https://colab.research.google.com/assets/colab-badge.svg\" alt=\"Open In Colab\"/></a>"
      ]
    },
    {
      "cell_type": "code",
      "metadata": {
        "id": "Vnh6DM1poWWY",
        "colab_type": "code",
        "colab": {
          "base_uri": "https://localhost:8080/",
          "height": 34
        },
        "outputId": "d20023d7-04db-410f-ed8c-9719ccc1ff0b"
      },
      "source": [
        "from io import BytesIO as StringIO\n",
        "!pip install pdfminer\n",
        "from pdfminer.pdfinterp import PDFResourceManager, PDFPageInterpreter\n",
        "from pdfminer.converter import TextConverter\n",
        "from pdfminer.layout import LAParams\n",
        "from pdfminer.pdfpage import PDFPage\n",
        "import os\n",
        "import sys, getopt\n",
        "\n",
        "\n",
        "#converts pdf, returns its text content as a string\n",
        "def convert(fname, pages=None):\n",
        "    if not pages:\n",
        "        pagenums = set()\n",
        "    else:\n",
        "        pagenums = set(pages)\n",
        "\n",
        "    output = StringIO()\n",
        "    manager = PDFResourceManager()\n",
        "    converter = TextConverter(manager, output, laparams=LAParams())\n",
        "    interpreter = PDFPageInterpreter(manager, converter)\n",
        "\n",
        "    infile = open(fname, 'rb')\n",
        "    for page in PDFPage.get_pages(infile, pagenums):\n",
        "        interpreter.process_page(page)\n",
        "    infile.close()\n",
        "    converter.close()\n",
        "    text = output.getvalue()\n",
        "    from google.colab import files\n",
        "\n",
        "    with open('example.txt', 'w') as f:\n",
        "        f.write(text)\n",
        "\n",
        "    files.download('example.txt')\n",
        "    output.close\n",
        "    return text"
      ],
      "execution_count": null,
      "outputs": [
        {
          "output_type": "stream",
          "text": [
            "Requirement already satisfied: pdfminer in /usr/local/lib/python2.7/dist-packages (20140328)\n"
          ],
          "name": "stdout"
        }
      ]
    },
    {
      "cell_type": "code",
      "metadata": {
        "id": "NzBcc8aktPaU",
        "colab_type": "code",
        "colab": {}
      },
      "source": [
        "from google.colab import drive\n",
        "drive.mount('/content/drive')"
      ],
      "execution_count": null,
      "outputs": []
    },
    {
      "cell_type": "code",
      "metadata": {
        "id": "WW9bQQkAoWWa",
        "colab_type": "code",
        "colab": {}
      },
      "source": [
        "convert('drive/My Drive/Colab Notebooks/monsters.pdf')"
      ],
      "execution_count": null,
      "outputs": []
    }
  ]
}